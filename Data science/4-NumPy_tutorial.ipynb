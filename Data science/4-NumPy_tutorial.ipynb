{
 "cells": [
  {
   "cell_type": "markdown",
   "id": "950c1ac9",
   "metadata": {},
   "source": [
    "\n",
    "# NumPy — Guida pratica con esempi (da zero ad operativo)\n",
    "**Contenuti**: array n‑dimensionali, slicing, ufunc, aggregazioni, ordinamento, algebra, broadcasting, indexing avanzato, concatenazione/split/reshape e gestione dimensioni.\n",
    "\n",
    "> Notebook generato da slide didattiche e ampliato con esempi riproducibili. Tutto il codice è commentato in italiano.\n"
   ]
  },
  {
   "cell_type": "code",
   "execution_count": 2,
   "id": "b3ffad3b",
   "metadata": {},
   "outputs": [
    {
     "data": {
      "text/plain": [
       "'2.3.1'"
      ]
     },
     "execution_count": 2,
     "metadata": {},
     "output_type": "execute_result"
    }
   ],
   "source": [
    "\n",
    "# Setup: import e opzioni di stampa\n",
    "import numpy as np\n",
    "\n",
    "# Per riproducibilità nei random\n",
    "rng = np.random.default_rng(42)\n",
    "\n",
    "np.__version__\n"
   ]
  },
  {
   "cell_type": "markdown",
   "id": "ed5aa157",
   "metadata": {},
   "source": [
    "\n",
    "## 1) Introduzione a NumPy\n",
    "NumPy fornisce l'oggetto `ndarray`: un buffer denso di **tipo fisso** (tutti gli elementi dello stesso dtype), in **memoria contigua** e con **N dimensioni**.\n",
    "Questo è fondamentale per l'**efficienza** rispetto alle liste Python (che sono eterogenee e puntano a oggetti).\n",
    "\n",
    "Punti chiave:\n",
    "- Tipi numerici: `int8/16/32/64`, `uint*`, `float16/32/64`, `bool`.\n",
    "- Array = dati + metadati (shape, strides, dtype).\n",
    "- Operazioni vettorializzate: molto più veloci dei loop Python.\n"
   ]
  },
  {
   "cell_type": "markdown",
   "id": "4ccc8e07",
   "metadata": {},
   "source": [
    "## 2) Creazione di array"
   ]
  },
  {
   "cell_type": "code",
   "execution_count": 3,
   "id": "6f5dc0cb",
   "metadata": {},
   "outputs": [
    {
     "data": {
      "text/plain": [
       "(array([1, 2, 3]),\n",
       " dtype('int64'),\n",
       " array([1., 2., 3.], dtype=float32),\n",
       " dtype('float32'))"
      ]
     },
     "execution_count": 3,
     "metadata": {},
     "output_type": "execute_result"
    }
   ],
   "source": [
    "\n",
    "# Da lista Python (con dtype inferito o esplicito)\n",
    "a = np.array([1, 2, 3])                  # dtype inferito (di solito int64/int32)\n",
    "b = np.array([1., 2., 3.], dtype=np.float32)  # dtype definito\n",
    "a, a.dtype, b, b.dtype\n"
   ]
  },
  {
   "cell_type": "code",
   "execution_count": 4,
   "id": "fbe8a701",
   "metadata": {},
   "outputs": [
    {
     "data": {
      "text/plain": [
       "(array([[0., 0., 0.],\n",
       "        [0., 0., 0.]]),\n",
       " array([[1., 1., 1.],\n",
       "        [1., 1., 1.]]),\n",
       " array([[1.1],\n",
       "        [1.1]]),\n",
       " array([0. , 0.1, 0.2, 0.3, 0.4, 0.5, 0.6, 0.7, 0.8, 0.9, 1. ]),\n",
       " array([1, 3, 5]),\n",
       " array([[ 0.30471708, -1.03998411,  0.7504512 ],\n",
       "        [ 0.94056472, -1.95103519, -1.30217951]]),\n",
       " array([[0.7611397 , 0.78606431, 0.12811363],\n",
       "        [0.45038594, 0.37079802, 0.92676499]]))"
      ]
     },
     "execution_count": 4,
     "metadata": {},
     "output_type": "execute_result"
    }
   ],
   "source": [
    "\n",
    "# Costruttori \"da zero\"\n",
    "z = np.zeros((2,3))\n",
    "o = np.ones((2,3))\n",
    "f = np.full((2,1), 1.1)\n",
    "lin = np.linspace(0, 1, 11)        # include 0 e 1, 11 punti\n",
    "ar = np.arange(1, 7, 2)            # [1, 3, 5]\n",
    "gauss = rng.normal(loc=0, scale=1, size=(2,3))   # normale\n",
    "unif = rng.random((2,3))                          # uniforme [0,1)\n",
    "z, o, f, lin, ar, gauss, unif\n"
   ]
  },
  {
   "cell_type": "markdown",
   "id": "0361cea3",
   "metadata": {},
   "source": [
    "## 3) Attributi principali"
   ]
  },
  {
   "cell_type": "code",
   "execution_count": 5,
   "id": "e4abe03e",
   "metadata": {},
   "outputs": [
    {
     "data": {
      "text/plain": [
       "(2, (2, 3), 6, dtype('int64'))"
      ]
     },
     "execution_count": 5,
     "metadata": {},
     "output_type": "execute_result"
    }
   ],
   "source": [
    "\n",
    "x = np.array([[2,3,4],[5,6,7]])\n",
    "(x.ndim, x.shape, x.size, x.dtype)\n"
   ]
  },
  {
   "cell_type": "markdown",
   "id": "1642622f",
   "metadata": {},
   "source": [
    "## 4) Ufunc (operazioni element‑wise)"
   ]
  },
  {
   "cell_type": "code",
   "execution_count": 6,
   "id": "93fde555",
   "metadata": {},
   "outputs": [
    {
     "data": {
      "text/plain": [
       "(array([[4., 5.],\n",
       "        [8., 7.]]),\n",
       " array([[ 3.,  4.],\n",
       "        [12., 10.]]),\n",
       " array([[3. , 4. ],\n",
       "        [3. , 2.5]]),\n",
       " array([[1., 1.],\n",
       "        [4., 4.]]),\n",
       " array([[2.71828183, 2.71828183],\n",
       "        [7.3890561 , 7.3890561 ]]),\n",
       " array([[1.09861229, 1.38629436],\n",
       "        [1.79175947, 1.60943791]]),\n",
       " array([[0.84147098, 0.84147098],\n",
       "        [0.90929743, 0.90929743]]))"
      ]
     },
     "execution_count": 6,
     "metadata": {},
     "output_type": "execute_result"
    }
   ],
   "source": [
    "\n",
    "x = np.array([[1,1],[2,2]], dtype=float)\n",
    "y = np.array([[3,4],[6,5]], dtype=float)\n",
    "\n",
    "# Operazioni binarie element-wise\n",
    "somma = x + y\n",
    "prodotto = x * y\n",
    "divisione = y / x\n",
    "potenza = x ** 2\n",
    "\n",
    "# Operazioni unarie\n",
    "exp_x = np.exp(x)\n",
    "log_y = np.log(y)\n",
    "sin_x = np.sin(x)\n",
    "\n",
    "somma, prodotto, divisione, potenza, exp_x, log_y, sin_x\n"
   ]
  },
  {
   "cell_type": "markdown",
   "id": "e7d4abc1",
   "metadata": {},
   "source": [
    "## 5) Aggregazioni e argmin/argmax (anche sugli assi)"
   ]
  },
  {
   "cell_type": "code",
   "execution_count": 7,
   "id": "b3671c3a",
   "metadata": {},
   "outputs": [
    {
     "data": {
      "text/plain": [
       "(np.int64(6),\n",
       " np.float64(1.5),\n",
       " np.float64(0.5),\n",
       " np.int64(0),\n",
       " array([1, 1]),\n",
       " array([2, 4]))"
      ]
     },
     "execution_count": 7,
     "metadata": {},
     "output_type": "execute_result"
    }
   ],
   "source": [
    "\n",
    "x = np.array([[1,1],[2,2]])\n",
    "tot = x.sum()             # somma totale\n",
    "media = x.mean()          # media totale\n",
    "std = x.std()             # deviazione standard\n",
    "pos_min_flat = x.argmin() # indice nel flatten\n",
    "pos_max_col = x.argmax(axis=0)  # per colonna\n",
    "somma_righe = x.sum(axis=1)     # somma per riga\n",
    "tot, media, std, pos_min_flat, pos_max_col, somma_righe\n"
   ]
  },
  {
   "cell_type": "markdown",
   "id": "0af1cc8e",
   "metadata": {},
   "source": [
    "## 6) Ordinamento (sort, argsort)"
   ]
  },
  {
   "cell_type": "code",
   "execution_count": 8,
   "id": "c6fa9562",
   "metadata": {},
   "outputs": [
    {
     "data": {
      "text/plain": [
       "(array([[2, 1, 3],\n",
       "        [7, 9, 8]]),\n",
       " array([[1, 2, 3],\n",
       "        [7, 8, 9]]),\n",
       " array([[2, 1, 3],\n",
       "        [7, 9, 8]]),\n",
       " array([[1, 0, 2],\n",
       "        [0, 2, 1]]),\n",
       " array([[1, 2, 3],\n",
       "        [7, 8, 9]]))"
      ]
     },
     "execution_count": 8,
     "metadata": {},
     "output_type": "execute_result"
    }
   ],
   "source": [
    "\n",
    "x = np.array([[2,1,3],[7,9,8]])\n",
    "x_sorted_rows = np.sort(x)                     # di default lungo axis=-1 (per righe)\n",
    "x_sorted_cols = np.sort(x, axis=0)             # per colonne\n",
    "x_idx_sorted_rows = np.argsort(x)              # indici dell'ordinamento per riga\n",
    "# Attenzione: x.sort() modifica in place\n",
    "x_copy = x.copy()\n",
    "x_copy.sort(axis=1)\n",
    "x, x_sorted_rows, x_sorted_cols, x_idx_sorted_rows, x_copy\n"
   ]
  },
  {
   "cell_type": "markdown",
   "id": "9529f481",
   "metadata": {},
   "source": [
    "## 7) Algebra lineare: `@` (prodotto scalare, matrice‑vettore, matrice‑matrice)"
   ]
  },
  {
   "cell_type": "code",
   "execution_count": 9,
   "id": "ac981898",
   "metadata": {},
   "outputs": [
    {
     "data": {
      "text/plain": [
       "(np.int64(7),\n",
       " array([ 5, 10]),\n",
       " array([[3, 3],\n",
       "        [6, 6]]))"
      ]
     },
     "execution_count": 9,
     "metadata": {},
     "output_type": "execute_result"
    }
   ],
   "source": [
    "\n",
    "# Vettore · vettore => scalare\n",
    "v1 = np.array([1,2,3])\n",
    "v2 = np.array([0,2,1])\n",
    "dot_v = v1 @ v2\n",
    "\n",
    "# Matrice · vettore => vettore\n",
    "M = np.array([[1,1],[2,2]])\n",
    "vec = np.array([2,3])\n",
    "Mv = M @ vec\n",
    "\n",
    "# Matrice · matrice => matrice\n",
    "A = np.array([[1,1],[2,2]])\n",
    "B = np.array([[2,2],[1,1]])\n",
    "AB = A @ B\n",
    "\n",
    "dot_v, Mv, AB\n"
   ]
  },
  {
   "cell_type": "markdown",
   "id": "df344a6d",
   "metadata": {},
   "source": [
    "## 8) Broadcasting: regole ed esempi"
   ]
  },
  {
   "cell_type": "code",
   "execution_count": 10,
   "id": "af1ce806",
   "metadata": {},
   "outputs": [
    {
     "data": {
      "text/plain": [
       "((3,),\n",
       " (3, 1),\n",
       " (3, 3),\n",
       " array([[12, 13, 14],\n",
       "        [13, 14, 15],\n",
       "        [14, 15, 16]]))"
      ]
     },
     "execution_count": 10,
     "metadata": {},
     "output_type": "execute_result"
    }
   ],
   "source": [
    "\n",
    "# Esempio 1: somma tra vettore riga (1,3) e vettore colonna (3,1) => matrice (3,3)\n",
    "x = np.array([1,2,3])            # shape (3,)\n",
    "y = np.array([[11],[12],[13]])   # shape (3,1)\n",
    "z = x + y                         # broadcasting: (1,3) + (3,1) -> (3,3)\n",
    "x.shape, y.shape, z.shape, z\n"
   ]
  },
  {
   "cell_type": "code",
   "execution_count": 11,
   "id": "efaf8022",
   "metadata": {},
   "outputs": [
    {
     "data": {
      "text/plain": [
       "'operands could not be broadcast together with shapes (3,2) (3,) '"
      ]
     },
     "execution_count": 11,
     "metadata": {},
     "output_type": "execute_result"
    }
   ],
   "source": [
    "\n",
    "# Esempio 2: caso incompatibile -> solleva ValueError\n",
    "X = np.array([[1,2],[3,4],[5,6]])   # shape (3,2)\n",
    "Y = np.array([11,12,13])            # shape (3,)\n",
    "error_msg = None\n",
    "try:\n",
    "    Z = X + Y\n",
    "except ValueError as e:\n",
    "    error_msg = str(e)\n",
    "error_msg\n"
   ]
  },
  {
   "cell_type": "markdown",
   "id": "0531f98c",
   "metadata": {},
   "source": [
    "## 9) Accesso agli array: indicizzazione, slicing, masking, fancy indexing"
   ]
  },
  {
   "cell_type": "code",
   "execution_count": 12,
   "id": "7eb24370",
   "metadata": {},
   "outputs": [
    {
     "data": {
      "text/plain": [
       "(np.int64(6),\n",
       " array([[ 1,  2,  3],\n",
       "        [ 4,  5, 10],\n",
       "        [ 7,  8,  9]]),\n",
       " array([[2, 3],\n",
       "        [5, 6],\n",
       "        [8, 9]]),\n",
       " array([[1, 0, 0],\n",
       "        [4, 0, 0],\n",
       "        [7, 0, 0]]),\n",
       " array([[-1, -1],\n",
       "        [-1, -1],\n",
       "        [-1, -1]]),\n",
       " array([[1, 2, 3],\n",
       "        [4, 5, 6],\n",
       "        [7, 8, 9]]))"
      ]
     },
     "execution_count": 12,
     "metadata": {},
     "output_type": "execute_result"
    }
   ],
   "source": [
    "\n",
    "X = np.array([[1,2,3],[4,5,6],[7,8,9]])\n",
    "\n",
    "# Indicizzazione semplice\n",
    "el = X[1,2]        # riga 1, colonna 2 (0-based) => 6\n",
    "X_mod = X.copy()\n",
    "X_mod[1,2] = 10\n",
    "\n",
    "# Slicing (view: modifica l'originale)\n",
    "view = X[:, 1:]    # tutte le righe, dalla colonna 1 in poi\n",
    "X_view_edit = X.copy()\n",
    "X_view = X_view_edit[:, 1:]\n",
    "X_view[:,:] = 0    # azzera le colonne 1..end nell'array originale\n",
    "\n",
    "# Per evitare effetti collaterali fare copy()\n",
    "only_copy = X[:,1:].copy()\n",
    "only_copy[:,:] = -1  # NON modifica X\n",
    "\n",
    "(el, X_mod, view, X_view_edit, only_copy, X)\n"
   ]
  },
  {
   "cell_type": "code",
   "execution_count": 13,
   "id": "956e83be",
   "metadata": {},
   "outputs": [
    {
     "data": {
      "text/plain": [
       "(array([False,  True, False,  True]),\n",
       " array([4.1, 4.5]),\n",
       " array([1.2, 0. , 1.5, 0. ]),\n",
       " array([ True,  True,  True,  True]))"
      ]
     },
     "execution_count": 13,
     "metadata": {},
     "output_type": "execute_result"
    }
   ],
   "source": [
    "\n",
    "# Masking (booleans): selezione e assegnazione\n",
    "x = np.array([1.2, 4.1, 1.5, 4.5])\n",
    "mask = x > 4\n",
    "sel = x[mask]          # copia 1D con i valori che soddisfano la condizione\n",
    "x_assign = x.copy()\n",
    "x_assign[mask] = 0     # assegnazione sui soli elementi True\n",
    "# Le operazioni booleane si fanno con & | ^ ~ (bitwise)\n",
    "mask_between = (x >= 1) & (x <= 5)\n",
    "mask, sel, x_assign, mask_between\n"
   ]
  },
  {
   "cell_type": "code",
   "execution_count": 14,
   "id": "23b99264",
   "metadata": {},
   "outputs": [
    {
     "data": {
      "text/plain": [
       "(array([7., 9., 6., 5.]),\n",
       " array([9., 5.]),\n",
       " array([[3., 4., 5.],\n",
       "        [6., 7., 8.]]),\n",
       " array([3., 8.]),\n",
       " array([0., 0.]),\n",
       " array([7., 9., 6., 5.]))"
      ]
     },
     "execution_count": 14,
     "metadata": {},
     "output_type": "execute_result"
    }
   ],
   "source": [
    "\n",
    "# Fancy indexing: specifica esplicita degli indici\n",
    "x = np.array([7.0, 9.0, 6.0, 5.0])\n",
    "sel = x[[1,3]]          # prende elementi 1 e 3\n",
    "X = np.array([[0.,1.,2.],[3.,4.,5.],[6.,7.,8.]])\n",
    "righe_12 = X[[1,2]]     # seleziona righe 1 e 2\n",
    "coord = X[[1,2],[0,2]]  # coordinate (1,0) e (2,2) => [3., 8.]\n",
    "# Attenzione: il risultato di masking/fancy è una COPIA (non view)\n",
    "tmp = x.copy()\n",
    "tmp2 = tmp[[1,3]]\n",
    "tmp2[:] = 0\n",
    "(tmp, sel, righe_12, coord, tmp2, tmp)  # tmp resta invariato\n"
   ]
  },
  {
   "cell_type": "code",
   "execution_count": 15,
   "id": "fb255dd6",
   "metadata": {},
   "outputs": [
    {
     "data": {
      "text/plain": [
       "(array([[0., 1., 2.],\n",
       "        [3., 4., 5.],\n",
       "        [6., 7., 8.]]),\n",
       " array([[1., 2.],\n",
       "        [7., 8.]]),\n",
       " array([[0., 1.],\n",
       "        [6., 7.]]),\n",
       " array([1., 2.]))"
      ]
     },
     "execution_count": 15,
     "metadata": {},
     "output_type": "execute_result"
    }
   ],
   "source": [
    "\n",
    "# Combined indexing: mix slicing + masking/fancy, e regola sulla riduzione dimensionale\n",
    "X = np.array([[0.,1.,2.],[3.,4.,5.],[6.,7.,8.]])\n",
    "m_s = X[[True, False, True], 1:]  # masking + slicing: mantiene numero di dimensioni\n",
    "f_s = X[[0,2], :2]                # fancy + slicing\n",
    "s_s = X[0, 1:]                    # simple + slicing: riduce una dimensione (risultato 1D)\n",
    "X, m_s, f_s, s_s\n"
   ]
  },
  {
   "cell_type": "markdown",
   "id": "a4d359a9",
   "metadata": {},
   "source": [
    "## 10) Lavorare con gli array: concatenazione, split, reshape, nuove dimensioni"
   ]
  },
  {
   "cell_type": "code",
   "execution_count": 16,
   "id": "4ed33ab7",
   "metadata": {},
   "outputs": [
    {
     "data": {
      "text/plain": [
       "(array([[ 1,  2,  3],\n",
       "        [ 4,  5,  6],\n",
       "        [11, 12, 13],\n",
       "        [14, 15, 16]]),\n",
       " array([[ 1,  2,  3, 11, 12, 13],\n",
       "        [ 4,  5,  6, 14, 15, 16]]),\n",
       " array([[ 1,  2,  3, 11, 12, 13],\n",
       "        [ 4,  5,  6, 14, 15, 16]]),\n",
       " array([[ 1,  2,  3],\n",
       "        [ 4,  5,  6],\n",
       "        [11, 12, 13],\n",
       "        [14, 15, 16]]))"
      ]
     },
     "execution_count": 16,
     "metadata": {},
     "output_type": "execute_result"
    }
   ],
   "source": [
    "\n",
    "# Concatenazione\n",
    "x = np.array([[1,2,3],[4,5,6]])\n",
    "y = np.array([[11,12,13],[14,15,16]])\n",
    "cat0 = np.concatenate((x,y), axis=0)  # per righe\n",
    "cat1 = np.concatenate((x,y), axis=1)  # per colonne\n",
    "h = np.hstack((x,y))\n",
    "v = np.vstack((x,y))\n",
    "cat0, cat1, h, v\n"
   ]
  },
  {
   "cell_type": "code",
   "execution_count": 17,
   "id": "193cb180",
   "metadata": {},
   "outputs": [
    {
     "data": {
      "text/plain": [
       "(array([[ 1,  2,  3],\n",
       "        [11, 12, 13]]),\n",
       " (2, 3))"
      ]
     },
     "execution_count": 17,
     "metadata": {},
     "output_type": "execute_result"
    }
   ],
   "source": [
    "\n",
    "# vstack su vettori 1D crea un nuovo asse verticale\n",
    "x = np.array([1,2,3])\n",
    "y = np.array([11,12,13])\n",
    "v = np.vstack((x,y))\n",
    "v, v.shape\n"
   ]
  },
  {
   "cell_type": "code",
   "execution_count": 18,
   "id": "d97dd2a7",
   "metadata": {},
   "outputs": [
    {
     "data": {
      "text/plain": [
       "(array([7, 7]), array([9, 9]), array([8, 8]))"
      ]
     },
     "execution_count": 18,
     "metadata": {},
     "output_type": "execute_result"
    }
   ],
   "source": [
    "\n",
    "# Split (in posizioni o numero di blocchi)\n",
    "x = np.array([7, 7, 9, 9, 8, 8])\n",
    "s1, s2, s3 = np.split(x, [2,4])   # davanti a indici 2 e 4\n",
    "s1, s2, s3\n"
   ]
  },
  {
   "cell_type": "code",
   "execution_count": 19,
   "id": "b5ee9e57",
   "metadata": {},
   "outputs": [
    {
     "data": {
      "text/plain": [
       "([array([[1, 2, 3],\n",
       "         [4, 5, 6]]),\n",
       "  array([[11, 12, 13],\n",
       "         [14, 15, 16]])],\n",
       " [array([[ 1,  2,  3, 11, 12, 13]]), array([[ 4,  5,  6, 14, 15, 16]])])"
      ]
     },
     "execution_count": 19,
     "metadata": {},
     "output_type": "execute_result"
    }
   ],
   "source": [
    "\n",
    "# hsplit / vsplit su 2D\n",
    "X = np.array([[1,2,3,11,12,13],[4,5,6,14,15,16]])\n",
    "hs = np.hsplit(X, [3])   # splittra colonne in [0:3] e [3:end]\n",
    "vs = np.vsplit(X, 2)     # splittra righe in 2 blocchi uguali\n",
    "hs, vs\n"
   ]
  },
  {
   "cell_type": "code",
   "execution_count": 20,
   "id": "202ec7c2",
   "metadata": {},
   "outputs": [
    {
     "data": {
      "text/plain": [
       "(array([0, 1, 2, 3, 4, 5]),\n",
       " array([[0, 1, 2],\n",
       "        [3, 4, 5]]),\n",
       " array([[1],\n",
       "        [2],\n",
       "        [3]]),\n",
       " True)"
      ]
     },
     "execution_count": 20,
     "metadata": {},
     "output_type": "execute_result"
    }
   ],
   "source": [
    "\n",
    "# Reshape: ri‑indicizza senza copiare (quando possibile)\n",
    "x = np.arange(6)         # [0 1 2 3 4 5]\n",
    "y = x.reshape((2,3))     # 2 righe, 3 colonne\n",
    "z = np.array([1,2,3]).reshape(-1,1)   # -1 lascia inferire la dimensione\n",
    "x, y, z, y.flags['C_CONTIGUOUS']\n"
   ]
  },
  {
   "cell_type": "code",
   "execution_count": 21,
   "id": "9106d99f",
   "metadata": {},
   "outputs": [
    {
     "data": {
      "text/plain": [
       "((1, 2, 3),\n",
       " array([[1],\n",
       "        [2],\n",
       "        [3]]),\n",
       " (3, 1))"
      ]
     },
     "execution_count": 21,
     "metadata": {},
     "output_type": "execute_result"
    }
   ],
   "source": [
    "\n",
    "# Aggiungere nuove dimensioni con np.newaxis\n",
    "arr = np.array([[1,2,3],[4,5,6]])\n",
    "res = arr[np.newaxis, :, :]   # shape (1,2,3)\n",
    "col = np.array([1,2,3])[:, np.newaxis]  # vettore colonna (3,1)\n",
    "res.shape, col, col.shape\n"
   ]
  },
  {
   "cell_type": "markdown",
   "id": "5835cb2a",
   "metadata": {},
   "source": [
    "\n",
    "## 11) Mini‑esercizi (con soluzioni)\n",
    "1. **Normalizzazione per colonna** di una matrice `M` (sottrai media e dividi per std per ogni colonna) usando **broadcasting**.\n",
    "2. Dato `v = [3, 1, 4, 1, 5, 9]`, ordina e recupera gli **indici** dell'ordinamento (argsort). Poi usa questi indici per riordinare `v`.\n",
    "3. Crea `A` (3×3) e seleziona con **fancy indexing** gli elementi alle coordinate `(0,2)`, `(1,1)`, `(2,0)`.\n"
   ]
  },
  {
   "cell_type": "code",
   "execution_count": 22,
   "id": "1fb9fdc5",
   "metadata": {},
   "outputs": [
    {
     "data": {
      "text/plain": [
       "(array([[ 0.1320614 ,  2.25448241,  0.93501868, -1.71858493],\n",
       "        [ 0.73750157, -1.9177652 ,  1.7569006 , -0.09985182],\n",
       "        [-0.36972473, -1.36185909,  2.44508268, -0.30905896],\n",
       "        [-0.85665564, -0.7042671 ,  1.06461837,  0.73088813],\n",
       "        [ 0.82546522,  0.86164201,  4.2832952 , -0.81283003]]),\n",
       " array([ 0.09372956, -0.17355339,  2.09698311, -0.44188752]),\n",
       " array([0.64333051, 1.52990128, 1.21923978, 0.80964056]),\n",
       " array([-4.44089210e-17,  6.66133815e-17,  0.00000000e+00,  1.11022302e-17]),\n",
       " array([1., 1., 1., 1.]))"
      ]
     },
     "execution_count": 22,
     "metadata": {},
     "output_type": "execute_result"
    }
   ],
   "source": [
    "\n",
    "# 1) Normalizzazione per colonna\n",
    "M = rng.normal(0, 2, size=(5,4))\n",
    "mu = M.mean(axis=0)             # (4,)\n",
    "sd = M.std(axis=0) + 1e-12      # (4,)\n",
    "M_norm = (M - mu) / sd          # broadcasting (5,4) - (4,) => (5,4)\n",
    "M, mu, sd, M_norm.mean(axis=0), M_norm.std(axis=0)\n"
   ]
  },
  {
   "cell_type": "code",
   "execution_count": 23,
   "id": "6bac43c2",
   "metadata": {},
   "outputs": [
    {
     "data": {
      "text/plain": [
       "(array([3, 1, 4, 1, 5, 9]),\n",
       " array([1, 3, 0, 2, 4, 5]),\n",
       " array([1, 1, 3, 4, 5, 9]))"
      ]
     },
     "execution_count": 23,
     "metadata": {},
     "output_type": "execute_result"
    }
   ],
   "source": [
    "\n",
    "# 2) Ordinamento con argsort e riordinamento\n",
    "v = np.array([3, 1, 4, 1, 5, 9])\n",
    "idx = np.argsort(v)\n",
    "v_sorted = v[idx]\n",
    "v, idx, v_sorted\n"
   ]
  },
  {
   "cell_type": "code",
   "execution_count": 24,
   "id": "e24e9f16",
   "metadata": {},
   "outputs": [
    {
     "data": {
      "text/plain": [
       "(array([[0, 1, 2],\n",
       "        [3, 4, 5],\n",
       "        [6, 7, 8]]),\n",
       " array([2, 4, 6]))"
      ]
     },
     "execution_count": 24,
     "metadata": {},
     "output_type": "execute_result"
    }
   ],
   "source": [
    "\n",
    "# 3) Fancy indexing a coordinate specifiche\n",
    "A = np.arange(9).reshape(3,3)\n",
    "coords = A[[0,1,2], [2,1,0]]   # (0,2), (1,1), (2,0)\n",
    "A, coords\n"
   ]
  },
  {
   "cell_type": "markdown",
   "id": "1fd25327",
   "metadata": {},
   "source": [
    "\n",
    "---\n",
    "\n",
    "**Suggerimento Pro**: per calcoli intensivi in finanza/ML, valuta dtype `float32` per risparmiare memoria, oppure `float64` per stabilità numerica. Per prodotti complessi considera `np.einsum`/`np.matmul`; per accelerare loop Python esplora `numba`.\n",
    "\n",
    "*Notebook creato automaticamente.*\n"
   ]
  }
 ],
 "metadata": {
  "kernelspec": {
   "display_name": "Python 3",
   "language": "python",
   "name": "python3"
  },
  "language_info": {
   "codemirror_mode": {
    "name": "ipython",
    "version": 3
   },
   "file_extension": ".py",
   "mimetype": "text/x-python",
   "name": "python",
   "nbconvert_exporter": "python",
   "pygments_lexer": "ipython3",
   "version": "3.12.10"
  }
 },
 "nbformat": 4,
 "nbformat_minor": 5
}
