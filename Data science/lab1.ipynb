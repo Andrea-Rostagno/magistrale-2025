{
 "cells": [
  {
   "cell_type": "markdown",
   "id": "19d8a273",
   "metadata": {},
   "source": [
    "150 flowers × 5 columns (4 numeric features + species label). Example with\n",
    "wget:"
   ]
  },
  {
   "cell_type": "code",
   "execution_count": 10,
   "id": "18ecc0e3",
   "metadata": {},
   "outputs": [],
   "source": [
    "import wget\n",
    "import numpy as np"
   ]
  },
  {
   "cell_type": "code",
   "execution_count": 7,
   "id": "722b65bd",
   "metadata": {},
   "outputs": [
    {
     "data": {
      "text/plain": [
       "'iris (2).csv'"
      ]
     },
     "execution_count": 7,
     "metadata": {},
     "output_type": "execute_result"
    }
   ],
   "source": [
    "url = \"https://archive.ics.uci.edu/ml/machine-learning-databases/iris/iris.data\"\n",
    "output = \"iris.csv\"\n",
    "wget.download(url, output)"
   ]
  },
  {
   "cell_type": "code",
   "execution_count": 8,
   "id": "3ffb8d9a",
   "metadata": {},
   "outputs": [
    {
     "data": {
      "text/plain": [
       "'mnist_test (1).csv'"
      ]
     },
     "execution_count": 8,
     "metadata": {},
     "output_type": "execute_result"
    }
   ],
   "source": [
    "\n",
    "url = \"https://raw.githubusercontent.com/dbdmg/data-science-lab/master/datasets/mnist_test.csv\"\n",
    "output = \"mnist_test.csv\"\n",
    "wget.download(url, output)"
   ]
  },
  {
   "cell_type": "code",
   "execution_count": 11,
   "id": "405ba1c0",
   "metadata": {},
   "outputs": [],
   "source": [
    "X = np.genfromtxt('iris.csv', delimiter=',', usecols=(0, 1, 2, 3), dtype=float)\n",
    "y = np.genfromtxt('iris.csv', delimiter=',', usecols=4, dtype=str)"
   ]
  },
  {
   "cell_type": "code",
   "execution_count": null,
   "id": "4d53c116",
   "metadata": {},
   "outputs": [
    {
     "data": {
      "text/plain": [
       "dtype('float64')"
      ]
     },
     "execution_count": 15,
     "metadata": {},
     "output_type": "execute_result"
    }
   ],
   "source": [
    "X.dtype"
   ]
  },
  {
   "cell_type": "code",
   "execution_count": 16,
   "id": "83afce26",
   "metadata": {},
   "outputs": [
    {
     "data": {
      "text/plain": [
       "(150, 4)"
      ]
     },
     "execution_count": 16,
     "metadata": {},
     "output_type": "execute_result"
    }
   ],
   "source": [
    "X.shape"
   ]
  },
  {
   "cell_type": "code",
   "execution_count": 17,
   "id": "8777a4cf",
   "metadata": {},
   "outputs": [
    {
     "data": {
      "text/plain": [
       "dtype('<U15')"
      ]
     },
     "execution_count": 17,
     "metadata": {},
     "output_type": "execute_result"
    }
   ],
   "source": [
    "y.dtype"
   ]
  },
  {
   "cell_type": "code",
   "execution_count": 18,
   "id": "70197531",
   "metadata": {},
   "outputs": [
    {
     "data": {
      "text/plain": [
       "(150,)"
      ]
     },
     "execution_count": 18,
     "metadata": {},
     "output_type": "execute_result"
    }
   ],
   "source": [
    "y.shape"
   ]
  },
  {
   "cell_type": "code",
   "execution_count": 19,
   "id": "2b2d30a6",
   "metadata": {},
   "outputs": [
    {
     "data": {
      "text/plain": [
       "array([5.84333333, 3.054     , 3.75866667, 1.19866667])"
      ]
     },
     "execution_count": 19,
     "metadata": {},
     "output_type": "execute_result"
    }
   ],
   "source": [
    "X.mean(axis=0)"
   ]
  },
  {
   "cell_type": "code",
   "execution_count": 20,
   "id": "0a73eca0",
   "metadata": {},
   "outputs": [
    {
     "data": {
      "text/plain": [
       "array([0.82530129, 0.43214658, 1.75852918, 0.76061262])"
      ]
     },
     "execution_count": 20,
     "metadata": {},
     "output_type": "execute_result"
    }
   ],
   "source": [
    "X.std(axis=0)"
   ]
  },
  {
   "cell_type": "markdown",
   "id": "aa19ff77",
   "metadata": {},
   "source": [
    "PARTE 3"
   ]
  },
  {
   "cell_type": "code",
   "execution_count": null,
   "id": "4515109a",
   "metadata": {},
   "outputs": [],
   "source": []
  }
 ],
 "metadata": {
  "kernelspec": {
   "display_name": "Python 3",
   "language": "python",
   "name": "python3"
  },
  "language_info": {
   "codemirror_mode": {
    "name": "ipython",
    "version": 3
   },
   "file_extension": ".py",
   "mimetype": "text/x-python",
   "name": "python",
   "nbconvert_exporter": "python",
   "pygments_lexer": "ipython3",
   "version": "3.12.10"
  }
 },
 "nbformat": 4,
 "nbformat_minor": 5
}
