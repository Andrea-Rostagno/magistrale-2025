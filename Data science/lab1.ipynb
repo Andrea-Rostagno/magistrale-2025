{
 "cells": [
  {
   "cell_type": "markdown",
   "id": "19d8a273",
   "metadata": {},
   "source": [
    "150 flowers × 5 columns (4 numeric features + species label). Example with\n",
    "wget:"
   ]
  },
  {
   "cell_type": "code",
   "execution_count": 5,
   "id": "18ecc0e3",
   "metadata": {},
   "outputs": [],
   "source": [
    "import wget"
   ]
  },
  {
   "cell_type": "code",
   "execution_count": 7,
   "id": "722b65bd",
   "metadata": {},
   "outputs": [
    {
     "data": {
      "text/plain": [
       "'iris (2).csv'"
      ]
     },
     "execution_count": 7,
     "metadata": {},
     "output_type": "execute_result"
    }
   ],
   "source": [
    "url = \"https://archive.ics.uci.edu/ml/machine-learning-databases/iris/iris.data\"\n",
    "output = \"iris.csv\"\n",
    "wget.download(url, output)"
   ]
  },
  {
   "cell_type": "code",
   "execution_count": 8,
   "id": "3ffb8d9a",
   "metadata": {},
   "outputs": [
    {
     "data": {
      "text/plain": [
       "'mnist_test (1).csv'"
      ]
     },
     "execution_count": 8,
     "metadata": {},
     "output_type": "execute_result"
    }
   ],
   "source": [
    "\n",
    "url = \"https://raw.githubusercontent.com/dbdmg/data-science-lab/master/datasets/mnist_test.csv\"\n",
    "output = \"mnist_test.csv\"\n",
    "wget.download(url, output)"
   ]
  }
 ],
 "metadata": {
  "kernelspec": {
   "display_name": "Python 3",
   "language": "python",
   "name": "python3"
  },
  "language_info": {
   "codemirror_mode": {
    "name": "ipython",
    "version": 3
   },
   "file_extension": ".py",
   "mimetype": "text/x-python",
   "name": "python",
   "nbconvert_exporter": "python",
   "pygments_lexer": "ipython3",
   "version": "3.12.10"
  }
 },
 "nbformat": 4,
 "nbformat_minor": 5
}
