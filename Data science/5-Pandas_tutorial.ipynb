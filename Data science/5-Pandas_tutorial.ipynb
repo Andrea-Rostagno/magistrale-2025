{
 "cells": [
  {
   "cell_type": "markdown",
   "id": "91c687fb",
   "metadata": {},
   "source": [
    "# Pandas — Guida pratica con esempi (Serie, DataFrame, I/O, GroupBy, Pivot, MultiIndex)\n",
    "**Fonte:** slide '5-Pandas.pdf'.  \n",
    "**Obiettivo:** mostrare tutti i comandi spiegati con esempi eseguibili e commenti chiari."
   ]
  },
  {
   "cell_type": "code",
   "execution_count": 2,
   "id": "661b5763",
   "metadata": {},
   "outputs": [
    {
     "data": {
      "text/plain": [
       "('2.3.1', '2.3.0')"
      ]
     },
     "execution_count": 2,
     "metadata": {},
     "output_type": "execute_result"
    }
   ],
   "source": [
    "import numpy as np\n",
    "import pandas as pd\n",
    "\n",
    "np.__version__, pd.__version__"
   ]
  },
  {
   "cell_type": "markdown",
   "id": "1ee65c7e",
   "metadata": {},
   "source": [
    "## 1) Pandas Series\n",
    "Una **Series** è una sequenza 1D di elementi omogenei con un **indice esplicito**."
   ]
  },
  {
   "cell_type": "code",
   "execution_count": 3,
   "id": "6b858a44",
   "metadata": {},
   "outputs": [
    {
     "data": {
      "text/plain": [
       "0    2.0\n",
       "1    3.1\n",
       "2    4.5\n",
       "dtype: float64"
      ]
     },
     "metadata": {},
     "output_type": "display_data"
    },
    {
     "name": "stdout",
     "output_type": "stream",
     "text": [
      "values -> [2.  3.1 4.5]\n",
      "index  -> RangeIndex(start=0, stop=3, step=1)\n"
     ]
    }
   ],
   "source": [
    "# Da lista (indice implicito)\n",
    "s1 = pd.Series([2.0, 3.1, 4.5])\n",
    "display(s1)\n",
    "print('values ->', s1.values)\n",
    "print('index  ->', s1.index)"
   ]
  },
  {
   "cell_type": "code",
   "execution_count": 4,
   "id": "aa3b1711",
   "metadata": {},
   "outputs": [
    {
     "data": {
      "text/plain": [
       "mon    2.0\n",
       "tue    3.1\n",
       "wed    4.5\n",
       "dtype: float64"
      ]
     },
     "execution_count": 4,
     "metadata": {},
     "output_type": "execute_result"
    }
   ],
   "source": [
    "# Da lista con indice esplicito\n",
    "s2 = pd.Series([2.0, 3.1, 4.5], index=['mon','tue','wed'])\n",
    "s2"
   ]
  },
  {
   "cell_type": "code",
   "execution_count": 5,
   "id": "d6ba14cf",
   "metadata": {},
   "outputs": [
    {
     "data": {
      "text/plain": [
       "c    2.0\n",
       "b    3.1\n",
       "a    4.5\n",
       "dtype: float64"
      ]
     },
     "execution_count": 5,
     "metadata": {},
     "output_type": "execute_result"
    }
   ],
   "source": [
    "# Da dizionario (chiavi -> indice)\n",
    "s3 = pd.Series({'c':2.0, 'b':3.1, 'a':4.5})\n",
    "s3"
   ]
  },
  {
   "cell_type": "markdown",
   "id": "15427f10",
   "metadata": {},
   "source": [
    "### Accesso: `loc` (etichetta) vs `iloc` (posizione)"
   ]
  },
  {
   "cell_type": "code",
   "execution_count": 6,
   "id": "470b1f7e",
   "metadata": {},
   "outputs": [
    {
     "name": "stdout",
     "output_type": "stream",
     "text": [
      "loc['a'] -> 2.0\n",
      "iloc[0]  -> 2.0\n",
      "Serie aggiornata:\n",
      " a     2.0\n",
      "b    10.0\n",
      "c     4.5\n",
      "dtype: float64\n"
     ]
    }
   ],
   "source": [
    "s = pd.Series([2.0, 3.1, 4.5], index=['a','b','c'])\n",
    "print(\"loc['a'] ->\", s.loc['a'])\n",
    "print('iloc[0]  ->', s.iloc[0])\n",
    "s.loc['b'] = 10\n",
    "print('Serie aggiornata:\\n', s)"
   ]
  },
  {
   "cell_type": "code",
   "execution_count": 7,
   "id": "344973b1",
   "metadata": {},
   "outputs": [
    {
     "name": "stdout",
     "output_type": "stream",
     "text": [
      "s.loc['b':'c'] (stop incluso)\n",
      " b    3.1\n",
      "c    4.5\n",
      "dtype: float64\n",
      "s.iloc[1:3] (stop escluso)\n",
      " b    3.1\n",
      "c    4.5\n",
      "dtype: float64\n"
     ]
    }
   ],
   "source": [
    "# Slicing\n",
    "s = pd.Series([2.0, 3.1, 4.5], index=['a','b','c'])\n",
    "print(\"s.loc['b':'c'] (stop incluso)\\n\", s.loc['b':'c'])\n",
    "print('s.iloc[1:3] (stop escluso)\\n', s.iloc[1:3])"
   ]
  },
  {
   "cell_type": "code",
   "execution_count": 8,
   "id": "d5f200db",
   "metadata": {},
   "outputs": [
    {
     "data": {
      "text/plain": [
       "b    3.1\n",
       "c    4.5\n",
       "dtype: float64"
      ]
     },
     "execution_count": 8,
     "metadata": {},
     "output_type": "execute_result"
    }
   ],
   "source": [
    "# Masking\n",
    "s = pd.Series([2.0, 3.1, 4.5], index=['a','b','c'])\n",
    "s[(s>2) & (s<10)]"
   ]
  },
  {
   "cell_type": "code",
   "execution_count": 9,
   "id": "213fcd89",
   "metadata": {},
   "outputs": [
    {
     "data": {
      "text/plain": [
       "(a    2.0\n",
       " c    4.5\n",
       " dtype: float64,\n",
       " a    2.0\n",
       " c    4.5\n",
       " dtype: float64)"
      ]
     },
     "execution_count": 9,
     "metadata": {},
     "output_type": "execute_result"
    }
   ],
   "source": [
    "# Fancy indexing\n",
    "s = pd.Series([2.0, 3.1, 4.5], index=['a','b','c'])\n",
    "s.loc[['a','c']], s.iloc[[0,2]]"
   ]
  },
  {
   "cell_type": "markdown",
   "id": "968bdfb7",
   "metadata": {},
   "source": [
    "## 2) DataFrame\n",
    "Un **DataFrame** è una tabella 2D: ogni colonna è una `Series` con lo stesso indice."
   ]
  },
  {
   "cell_type": "code",
   "execution_count": 10,
   "id": "1f0e0d65",
   "metadata": {},
   "outputs": [
    {
     "data": {
      "text/html": [
       "<div>\n",
       "<style scoped>\n",
       "    .dataframe tbody tr th:only-of-type {\n",
       "        vertical-align: middle;\n",
       "    }\n",
       "\n",
       "    .dataframe tbody tr th {\n",
       "        vertical-align: top;\n",
       "    }\n",
       "\n",
       "    .dataframe thead th {\n",
       "        text-align: right;\n",
       "    }\n",
       "</style>\n",
       "<table border=\"1\" class=\"dataframe\">\n",
       "  <thead>\n",
       "    <tr style=\"text-align: right;\">\n",
       "      <th></th>\n",
       "      <th>Price</th>\n",
       "      <th>Quantity</th>\n",
       "      <th>Liters</th>\n",
       "    </tr>\n",
       "  </thead>\n",
       "  <tbody>\n",
       "    <tr>\n",
       "      <th>a</th>\n",
       "      <td>1.0</td>\n",
       "      <td>5</td>\n",
       "      <td>1.5</td>\n",
       "    </tr>\n",
       "    <tr>\n",
       "      <th>b</th>\n",
       "      <td>1.4</td>\n",
       "      <td>10</td>\n",
       "      <td>0.3</td>\n",
       "    </tr>\n",
       "    <tr>\n",
       "      <th>c</th>\n",
       "      <td>5.0</td>\n",
       "      <td>8</td>\n",
       "      <td>1.0</td>\n",
       "    </tr>\n",
       "  </tbody>\n",
       "</table>\n",
       "</div>"
      ],
      "text/plain": [
       "   Price  Quantity  Liters\n",
       "a    1.0         5     1.5\n",
       "b    1.4        10     0.3\n",
       "c    5.0         8     1.0"
      ]
     },
     "execution_count": 10,
     "metadata": {},
     "output_type": "execute_result"
    }
   ],
   "source": [
    "# Da Series (indice condiviso)\n",
    "price = pd.Series([1.0, 1.4, 5.0], index=['a','b','c'])\n",
    "quantity = pd.Series([5, 10, 8], index=['a','b','c'])\n",
    "liters = pd.Series([1.5, 0.3, 1.0], index=['a','b','c'])\n",
    "df = pd.DataFrame({'Price': price, 'Quantity': quantity, 'Liters': liters})\n",
    "df"
   ]
  },
  {
   "cell_type": "code",
   "execution_count": 11,
   "id": "d54c793f",
   "metadata": {},
   "outputs": [
    {
     "data": {
      "text/html": [
       "<div>\n",
       "<style scoped>\n",
       "    .dataframe tbody tr th:only-of-type {\n",
       "        vertical-align: middle;\n",
       "    }\n",
       "\n",
       "    .dataframe tbody tr th {\n",
       "        vertical-align: top;\n",
       "    }\n",
       "\n",
       "    .dataframe thead th {\n",
       "        text-align: right;\n",
       "    }\n",
       "</style>\n",
       "<table border=\"1\" class=\"dataframe\">\n",
       "  <thead>\n",
       "    <tr style=\"text-align: right;\">\n",
       "      <th></th>\n",
       "      <th>c1</th>\n",
       "      <th>c2</th>\n",
       "    </tr>\n",
       "  </thead>\n",
       "  <tbody>\n",
       "    <tr>\n",
       "      <th>0</th>\n",
       "      <td>0</td>\n",
       "      <td>0</td>\n",
       "    </tr>\n",
       "    <tr>\n",
       "      <th>1</th>\n",
       "      <td>1</td>\n",
       "      <td>2</td>\n",
       "    </tr>\n",
       "    <tr>\n",
       "      <th>2</th>\n",
       "      <td>2</td>\n",
       "      <td>4</td>\n",
       "    </tr>\n",
       "  </tbody>\n",
       "</table>\n",
       "</div>"
      ],
      "text/plain": [
       "   c1  c2\n",
       "0   0   0\n",
       "1   1   2\n",
       "2   2   4"
      ]
     },
     "execution_count": 11,
     "metadata": {},
     "output_type": "execute_result"
    }
   ],
   "source": [
    "# Da dict di liste\n",
    "dct = {'c1':[0,1,2], 'c2':[0,2,4]}\n",
    "df2 = pd.DataFrame(dct)\n",
    "df2"
   ]
  },
  {
   "cell_type": "code",
   "execution_count": 12,
   "id": "33faa79f",
   "metadata": {},
   "outputs": [
    {
     "data": {
      "text/html": [
       "<div>\n",
       "<style scoped>\n",
       "    .dataframe tbody tr th:only-of-type {\n",
       "        vertical-align: middle;\n",
       "    }\n",
       "\n",
       "    .dataframe tbody tr th {\n",
       "        vertical-align: top;\n",
       "    }\n",
       "\n",
       "    .dataframe thead th {\n",
       "        text-align: right;\n",
       "    }\n",
       "</style>\n",
       "<table border=\"1\" class=\"dataframe\">\n",
       "  <thead>\n",
       "    <tr style=\"text-align: right;\">\n",
       "      <th></th>\n",
       "      <th>c1</th>\n",
       "      <th>c2</th>\n",
       "    </tr>\n",
       "  </thead>\n",
       "  <tbody>\n",
       "    <tr>\n",
       "      <th>0</th>\n",
       "      <td>0</td>\n",
       "      <td>0</td>\n",
       "    </tr>\n",
       "    <tr>\n",
       "      <th>1</th>\n",
       "      <td>1</td>\n",
       "      <td>2</td>\n",
       "    </tr>\n",
       "    <tr>\n",
       "      <th>2</th>\n",
       "      <td>2</td>\n",
       "      <td>4</td>\n",
       "    </tr>\n",
       "  </tbody>\n",
       "</table>\n",
       "</div>"
      ],
      "text/plain": [
       "   c1  c2\n",
       "0   0   0\n",
       "1   1   2\n",
       "2   2   4"
      ]
     },
     "execution_count": 12,
     "metadata": {},
     "output_type": "execute_result"
    }
   ],
   "source": [
    "# Da lista di dict\n",
    "dic_list = [{'c1':i, 'c2':2*i} for i in range(3)]\n",
    "df3 = pd.DataFrame(dic_list)\n",
    "df3"
   ]
  },
  {
   "cell_type": "code",
   "execution_count": 13,
   "id": "a499b97d",
   "metadata": {},
   "outputs": [
    {
     "data": {
      "text/html": [
       "<div>\n",
       "<style scoped>\n",
       "    .dataframe tbody tr th:only-of-type {\n",
       "        vertical-align: middle;\n",
       "    }\n",
       "\n",
       "    .dataframe tbody tr th {\n",
       "        vertical-align: top;\n",
       "    }\n",
       "\n",
       "    .dataframe thead th {\n",
       "        text-align: right;\n",
       "    }\n",
       "</style>\n",
       "<table border=\"1\" class=\"dataframe\">\n",
       "  <thead>\n",
       "    <tr style=\"text-align: right;\">\n",
       "      <th></th>\n",
       "      <th>c1</th>\n",
       "      <th>c2</th>\n",
       "    </tr>\n",
       "  </thead>\n",
       "  <tbody>\n",
       "    <tr>\n",
       "      <th>a</th>\n",
       "      <td>0</td>\n",
       "      <td>1</td>\n",
       "    </tr>\n",
       "    <tr>\n",
       "      <th>b</th>\n",
       "      <td>2</td>\n",
       "      <td>3</td>\n",
       "    </tr>\n",
       "    <tr>\n",
       "      <th>c</th>\n",
       "      <td>4</td>\n",
       "      <td>5</td>\n",
       "    </tr>\n",
       "  </tbody>\n",
       "</table>\n",
       "</div>"
      ],
      "text/plain": [
       "   c1  c2\n",
       "a   0   1\n",
       "b   2   3\n",
       "c   4   5"
      ]
     },
     "execution_count": 13,
     "metadata": {},
     "output_type": "execute_result"
    }
   ],
   "source": [
    "# Da NumPy 2D\n",
    "arr = np.arange(6).reshape(3,2)\n",
    "df4 = pd.DataFrame(arr, columns=['c1','c2'], index=['a','b','c'])\n",
    "df4"
   ]
  },
  {
   "cell_type": "markdown",
   "id": "1a910536",
   "metadata": {},
   "source": [
    "### I/O: CSV e JSON"
   ]
  },
  {
   "cell_type": "code",
   "execution_count": 14,
   "id": "1c3d6c5b",
   "metadata": {},
   "outputs": [
    {
     "ename": "FileNotFoundError",
     "evalue": "[Errno 2] No such file or directory: '/mnt/data/mycsv.csv'",
     "output_type": "error",
     "traceback": [
      "\u001b[31m---------------------------------------------------------------------------\u001b[39m",
      "\u001b[31mFileNotFoundError\u001b[39m                         Traceback (most recent call last)",
      "\u001b[36mCell\u001b[39m\u001b[36m \u001b[39m\u001b[32mIn[14]\u001b[39m\u001b[32m, line 3\u001b[39m\n\u001b[32m      1\u001b[39m \u001b[38;5;66;03m# CSV con header da saltare\u001b[39;00m\n\u001b[32m      2\u001b[39m demo_csv_path = \u001b[33m'\u001b[39m\u001b[33m/mnt/data/mycsv.csv\u001b[39m\u001b[33m'\u001b[39m\n\u001b[32m----> \u001b[39m\u001b[32m3\u001b[39m \u001b[38;5;28;01mwith\u001b[39;00m \u001b[38;5;28;43mopen\u001b[39;49m\u001b[43m(\u001b[49m\u001b[43mdemo_csv_path\u001b[49m\u001b[43m,\u001b[49m\u001b[43m \u001b[49m\u001b[33;43m'\u001b[39;49m\u001b[33;43mw\u001b[39;49m\u001b[33;43m'\u001b[39;49m\u001b[43m,\u001b[49m\u001b[43m \u001b[49m\u001b[43mencoding\u001b[49m\u001b[43m=\u001b[49m\u001b[33;43m'\u001b[39;49m\u001b[33;43mutf-8\u001b[39;49m\u001b[33;43m'\u001b[39;49m\u001b[43m)\u001b[49m \u001b[38;5;28;01mas\u001b[39;00m f:\n\u001b[32m      4\u001b[39m     f.write(\u001b[33m'\u001b[39m\u001b[33mMyTitle\u001b[39m\u001b[38;5;130;01m\\n\u001b[39;00m\u001b[33m'\u001b[39m)\n\u001b[32m      5\u001b[39m     f.write(\u001b[33m'\u001b[39m\u001b[33mc1,c2,c3\u001b[39m\u001b[38;5;130;01m\\n\u001b[39;00m\u001b[33m'\u001b[39m)\n",
      "\u001b[36mFile \u001b[39m\u001b[32m~\\AppData\\Roaming\\Python\\Python312\\site-packages\\IPython\\core\\interactiveshell.py:343\u001b[39m, in \u001b[36m_modified_open\u001b[39m\u001b[34m(file, *args, **kwargs)\u001b[39m\n\u001b[32m    336\u001b[39m \u001b[38;5;28;01mif\u001b[39;00m file \u001b[38;5;129;01min\u001b[39;00m {\u001b[32m0\u001b[39m, \u001b[32m1\u001b[39m, \u001b[32m2\u001b[39m}:\n\u001b[32m    337\u001b[39m     \u001b[38;5;28;01mraise\u001b[39;00m \u001b[38;5;167;01mValueError\u001b[39;00m(\n\u001b[32m    338\u001b[39m         \u001b[33mf\u001b[39m\u001b[33m\"\u001b[39m\u001b[33mIPython won\u001b[39m\u001b[33m'\u001b[39m\u001b[33mt let you open fd=\u001b[39m\u001b[38;5;132;01m{\u001b[39;00mfile\u001b[38;5;132;01m}\u001b[39;00m\u001b[33m by default \u001b[39m\u001b[33m\"\u001b[39m\n\u001b[32m    339\u001b[39m         \u001b[33m\"\u001b[39m\u001b[33mas it is likely to crash IPython. If you know what you are doing, \u001b[39m\u001b[33m\"\u001b[39m\n\u001b[32m    340\u001b[39m         \u001b[33m\"\u001b[39m\u001b[33myou can use builtins\u001b[39m\u001b[33m'\u001b[39m\u001b[33m open.\u001b[39m\u001b[33m\"\u001b[39m\n\u001b[32m    341\u001b[39m     )\n\u001b[32m--> \u001b[39m\u001b[32m343\u001b[39m \u001b[38;5;28;01mreturn\u001b[39;00m \u001b[43mio_open\u001b[49m\u001b[43m(\u001b[49m\u001b[43mfile\u001b[49m\u001b[43m,\u001b[49m\u001b[43m \u001b[49m\u001b[43m*\u001b[49m\u001b[43margs\u001b[49m\u001b[43m,\u001b[49m\u001b[43m \u001b[49m\u001b[43m*\u001b[49m\u001b[43m*\u001b[49m\u001b[43mkwargs\u001b[49m\u001b[43m)\u001b[49m\n",
      "\u001b[31mFileNotFoundError\u001b[39m: [Errno 2] No such file or directory: '/mnt/data/mycsv.csv'"
     ]
    }
   ],
   "source": [
    "# CSV con header da saltare\n",
    "demo_csv_path = '/mnt/data/mycsv.csv'\n",
    "with open(demo_csv_path, 'w', encoding='utf-8') as f:\n",
    "    f.write('MyTitle\\n')\n",
    "    f.write('c1,c2,c3\\n')\n",
    "    f.write('0,1,2\\n')\n",
    "    f.write('3,4,5\\n')\n",
    "    f.write('6,7,8\\n')\n",
    "\n",
    "df_csv = pd.read_csv(demo_csv_path, sep=',', skiprows=1)\n",
    "display(df_csv)\n",
    "demo_csv_path"
   ]
  },
  {
   "cell_type": "code",
   "execution_count": null,
   "id": "5963969a",
   "metadata": {},
   "outputs": [],
   "source": [
    "# CSV con NaN personalizzati\n",
    "demo_csv2_path = '/mnt/data/mycsv_nan.csv'\n",
    "with open(demo_csv2_path, 'w', encoding='utf-8') as f:\n",
    "    f.write('c1,c2,c3\\n')\n",
    "    f.write('0,no info,\\n')\n",
    "    f.write('3,4,5\\n')\n",
    "    f.write('6,x,NaN\\n')\n",
    "\n",
    "df_nan = pd.read_csv(demo_csv2_path, sep=',', na_values=['no info','x'])\n",
    "display(df_nan)\n",
    "df_nan.dtypes, demo_csv2_path"
   ]
  },
  {
   "cell_type": "code",
   "execution_count": null,
   "id": "5b379430",
   "metadata": {},
   "outputs": [],
   "source": [
    "# to_csv (index=False per non scrivere l'indice)\n",
    "saved_path = '/mnt/data/savedcsv.csv'\n",
    "df_csv.to_csv(saved_path, sep=',', index=False)\n",
    "saved_path"
   ]
  },
  {
   "cell_type": "code",
   "execution_count": null,
   "id": "753d2ea7",
   "metadata": {},
   "outputs": [],
   "source": [
    "# JSON: salvataggio e lettura\n",
    "demo_json_path = '/mnt/data/myjson.json'\n",
    "df_csv.to_json(demo_json_path)\n",
    "df_json = pd.read_json(demo_json_path)\n",
    "display(df_json)\n",
    "demo_json_path"
   ]
  },
  {
   "cell_type": "markdown",
   "id": "d9801c02",
   "metadata": {},
   "source": [
    "## 3) Accesso e indicizzazione (`loc`/`iloc`)"
   ]
  },
  {
   "cell_type": "code",
   "execution_count": null,
   "id": "3a2ef6be",
   "metadata": {},
   "outputs": [],
   "source": [
    "df.columns, df.index"
   ]
  },
  {
   "cell_type": "code",
   "execution_count": null,
   "id": "566eb7c2",
   "metadata": {},
   "outputs": [],
   "source": [
    "df.values"
   ]
  },
  {
   "cell_type": "code",
   "execution_count": null,
   "id": "f9a8a57a",
   "metadata": {},
   "outputs": [],
   "source": [
    "df['Quantity']"
   ]
  },
  {
   "cell_type": "code",
   "execution_count": null,
   "id": "47c96e2b",
   "metadata": {},
   "outputs": [],
   "source": [
    "df.loc['a'], df.iloc[0]"
   ]
  },
  {
   "cell_type": "code",
   "execution_count": null,
   "id": "d93ab1e6",
   "metadata": {},
   "outputs": [],
   "source": [
    "df.loc['b':'c', 'Quantity':'Liters']"
   ]
  },
  {
   "cell_type": "code",
   "execution_count": null,
   "id": "ffeeea25",
   "metadata": {},
   "outputs": [],
   "source": [
    "mask = (df['Quantity']<10) & (df['Liters']>1)\n",
    "df.loc[mask, 'Quantity':]"
   ]
  },
  {
   "cell_type": "code",
   "execution_count": null,
   "id": "c630ba86",
   "metadata": {},
   "outputs": [],
   "source": [
    "df.loc[mask, ['Price','Liters']]"
   ]
  },
  {
   "cell_type": "code",
   "execution_count": null,
   "id": "cb30f962",
   "metadata": {},
   "outputs": [],
   "source": [
    "df.loc[['a','c'], ['Price','Liters']]"
   ]
  },
  {
   "cell_type": "markdown",
   "id": "afc4999a",
   "metadata": {},
   "source": [
    "### Differenza con NumPy (indicizzazione 2D)"
   ]
  },
  {
   "cell_type": "code",
   "execution_count": null,
   "id": "7c36a2a9",
   "metadata": {},
   "outputs": [],
   "source": [
    "arr = np.array([[1.0, 5.0, 1.5],[1.4,10.0,0.3],[5.0,8.0,1.0]])\n",
    "arr_res = arr[[0,2],[0,2]]\n",
    "df_demo = pd.DataFrame(arr, index=['a','b','c'], columns=['Price','Quantity','Liters'])\n",
    "pandas_res = df_demo.iloc[[0,2],[0,2]]\n",
    "arr_res, pandas_res"
   ]
  },
  {
   "cell_type": "markdown",
   "id": "c707cc21",
   "metadata": {},
   "source": [
    "## 4) Modifiche: assegnazioni, add/drop/rename colonne"
   ]
  },
  {
   "cell_type": "code",
   "execution_count": null,
   "id": "0b59e14b",
   "metadata": {},
   "outputs": [],
   "source": [
    "df2 = df.copy()\n",
    "df2.loc[['a','c'], ['Price','Liters']] = 0\n",
    "df2"
   ]
  },
  {
   "cell_type": "code",
   "execution_count": null,
   "id": "008565c0",
   "metadata": {},
   "outputs": [],
   "source": [
    "df_add = df.copy()\n",
    "df_add['Available'] = pd.Series([True, False, True], index=['a','b','c'])\n",
    "df_add"
   ]
  },
  {
   "cell_type": "code",
   "execution_count": null,
   "id": "61f81965",
   "metadata": {},
   "outputs": [],
   "source": [
    "df_add2 = df.copy()\n",
    "df_add2['Available'] = [True, False, True]\n",
    "df_add2"
   ]
  },
  {
   "cell_type": "code",
   "execution_count": null,
   "id": "7724f795",
   "metadata": {},
   "outputs": [],
   "source": [
    "df_drop = df.copy().drop(columns=['Quantity','Liters'])\n",
    "df_drop"
   ]
  },
  {
   "cell_type": "code",
   "execution_count": null,
   "id": "e6d50156",
   "metadata": {},
   "outputs": [],
   "source": [
    "df_renamed = df.copy().rename(columns={'Quantity':'nItems', 'Liters':'[L]'})\n",
    "df_renamed"
   ]
  },
  {
   "cell_type": "markdown",
   "id": "014548a2",
   "metadata": {},
   "source": [
    "## 5) Computation: ufunc, allineamento, aggregazioni"
   ]
  },
  {
   "cell_type": "code",
   "execution_count": null,
   "id": "5a57bb63",
   "metadata": {},
   "outputs": [],
   "source": [
    "s = pd.Series([-2.0, -1.0, 0.0, 1.0])\n",
    "np.exp(s) + np.sin(s/4)"
   ]
  },
  {
   "cell_type": "code",
   "execution_count": null,
   "id": "96363e7e",
   "metadata": {},
   "outputs": [],
   "source": [
    "s1 = pd.Series([1,3,10], index=['a','b','c'])\n",
    "s2 = pd.Series([1,3,30], index=['a','b','d'])\n",
    "s1, s2, s1 + s2"
   ]
  },
  {
   "cell_type": "code",
   "execution_count": null,
   "id": "bbe4b092",
   "metadata": {},
   "outputs": [],
   "source": [
    "df1 = pd.DataFrame({'Total':[1,3,5], 'Quantity':[2,4,6]}, index=['a','b','c'])\n",
    "df2b = pd.DataFrame({'Total':[1,3,5], 'Price':[2,4,6]}, index=['a','b','c'])\n",
    "df1, df2b, (df1+df2b)"
   ]
  },
  {
   "cell_type": "code",
   "execution_count": null,
   "id": "90f2ccf2",
   "metadata": {},
   "outputs": [],
   "source": [
    "df3 = pd.DataFrame({'Total':[1,3,5], 'Quantity':[2,4,6]}, index=['a','b','c'])\n",
    "s_row = pd.Series({'Total':1, 'Quantity':2})\n",
    "df3 + s_row"
   ]
  },
  {
   "cell_type": "code",
   "execution_count": null,
   "id": "4705945a",
   "metadata": {},
   "outputs": [],
   "source": [
    "df1.mean(), df1.std(), df1.sum()"
   ]
  },
  {
   "cell_type": "code",
   "execution_count": null,
   "id": "97310ab1",
   "metadata": {},
   "outputs": [],
   "source": [
    "mean_series = df1.mean()\n",
    "std_series = df1.std()\n",
    "((df1 - mean_series) / std_series).round(3)"
   ]
  },
  {
   "cell_type": "markdown",
   "id": "59ef80e9",
   "metadata": {},
   "source": [
    "## 6) Missing values: `isnull`, `notnull`, `dropna`, `fillna`"
   ]
  },
  {
   "cell_type": "code",
   "execution_count": null,
   "id": "f5d960a0",
   "metadata": {},
   "outputs": [],
   "source": [
    "s = pd.Series([4, None, 5, np.nan])\n",
    "s, s.isnull(), s.notnull()"
   ]
  },
  {
   "cell_type": "code",
   "execution_count": null,
   "id": "21ec0d2d",
   "metadata": {},
   "outputs": [],
   "source": [
    "s.dropna()"
   ]
  },
  {
   "cell_type": "code",
   "execution_count": null,
   "id": "ace0feb4",
   "metadata": {},
   "outputs": [],
   "source": [
    "df_nan_demo = pd.DataFrame({'Total':[1,3,5], 'Quantity':[2, np.nan, 6]}, index=['a','b','c'])\n",
    "df_drop_rows = df_nan_demo.dropna()\n",
    "df_drop_cols = df_nan_demo.dropna(axis='columns')\n",
    "df_nan_demo, df_drop_rows, df_drop_cols"
   ]
  },
  {
   "cell_type": "code",
   "execution_count": null,
   "id": "79947ed6",
   "metadata": {},
   "outputs": [],
   "source": [
    "s = pd.Series([4, None, 5, np.nan])\n",
    "s.fillna(0), s.fillna(method='ffill'), s.fillna(method='bfill')"
   ]
  },
  {
   "cell_type": "markdown",
   "id": "082e493a",
   "metadata": {},
   "source": [
    "## 7) Concat / Merge"
   ]
  },
  {
   "cell_type": "code",
   "execution_count": null,
   "id": "853a6f02",
   "metadata": {},
   "outputs": [],
   "source": [
    "sa = pd.Series(['a','b'], index=[1,2])\n",
    "sb = pd.Series(['c','d'], index=[1,2])\n",
    "pd.concat((sa, sb)), pd.concat((sa, sb), ignore_index=True)"
   ]
  },
  {
   "cell_type": "code",
   "execution_count": null,
   "id": "2713671d",
   "metadata": {},
   "outputs": [],
   "source": [
    "dfa = pd.DataFrame({'Total':[1,3]}, index=['a','b'])\n",
    "dfb = pd.DataFrame({'Total':[5,7]}, index=['c','d'])\n",
    "pd.concat((dfa, dfb))"
   ]
  },
  {
   "cell_type": "code",
   "execution_count": null,
   "id": "62063c5f",
   "metadata": {},
   "outputs": [],
   "source": [
    "dfc = pd.DataFrame({'Total':[1,3]}, index=['a','b'])\n",
    "dfd = pd.DataFrame({'Total':[5,7], 'Liters':[1,2]}, index=['c','d'])\n",
    "pd.concat((dfc, dfd))"
   ]
  },
  {
   "cell_type": "code",
   "execution_count": null,
   "id": "26a0c5ca",
   "metadata": {},
   "outputs": [],
   "source": [
    "dfL = pd.DataFrame({'k1':[0,1,0,1], 'c2':['a','b','c','d']})\n",
    "dfR = pd.DataFrame({'k1':[1,0], 'c3':['b1','a1']})\n",
    "pd.merge(dfL, dfR, on='k1', validate='m:1')"
   ]
  },
  {
   "cell_type": "markdown",
   "id": "5f98845a",
   "metadata": {},
   "source": [
    "## 8) GroupBy"
   ]
  },
  {
   "cell_type": "code",
   "execution_count": null,
   "id": "05a76241",
   "metadata": {},
   "outputs": [],
   "source": [
    "dfg = pd.DataFrame({'k':['a','b','a','b'], 'c1':[2,10,3,15], 'c2':[4,20,5,30]})\n",
    "grp = dfg.groupby('k')\n",
    "list(grp), grp.mean(), grp['c1'].mean(), grp.filter(lambda x: x['c1'].mean()>5)"
   ]
  },
  {
   "cell_type": "markdown",
   "id": "0f0151a6",
   "metadata": {},
   "source": [
    "## 9) Pivot / Pivot Table"
   ]
  },
  {
   "cell_type": "code",
   "execution_count": null,
   "id": "dd7e5495",
   "metadata": {},
   "outputs": [],
   "source": [
    "dfp = pd.DataFrame({'type':['a','b','b','a','b','a','b','a'], 'class':[3,2,3,3,2,1,1,2], 'fail':[1,1,1,0,1,0,0,0]})\n",
    "dfp.pivot_table('fail', index='type', columns='class', aggfunc='sum'), dfp.pivot_table('fail', index='type', columns='class', aggfunc='mean')"
   ]
  },
  {
   "cell_type": "markdown",
   "id": "1b8647de",
   "metadata": {},
   "source": [
    "## 10) MultiIndex"
   ]
  },
  {
   "cell_type": "code",
   "execution_count": null,
   "id": "447fcb08",
   "metadata": {},
   "outputs": [],
   "source": [
    "ix = [['Rome','Rome','Turin','Turin'], ['2018','2019','2018','2019']]\n",
    "s_mi = pd.Series([10,13,7,9], index=ix).sort_index()\n",
    "s_mi.index.names = ['city','year']\n",
    "(s_mi, s_mi.loc['Rome'], s_mi.loc[:, '2018'], s_mi[s_mi>10])"
   ]
  },
  {
   "cell_type": "code",
   "execution_count": null,
   "id": "997fbfb0",
   "metadata": {},
   "outputs": [],
   "source": [
    "ix = [['Rome','Rome','Turin','Turin'], ['2018','2019','2018','2019']]\n",
    "cols = [['c1','c1','c2','c2'], ['a','b','a','b']]\n",
    "data = np.arange(16).reshape((4,4))\n",
    "df_mi = pd.DataFrame(data, index=ix, columns=cols)\n",
    "df_mi"
   ]
  },
  {
   "cell_type": "code",
   "execution_count": null,
   "id": "c5f704df",
   "metadata": {},
   "outputs": [],
   "source": [
    "df_mi.loc[:, 'c1'], df_mi.loc['Rome', 'c1']"
   ]
  },
  {
   "cell_type": "code",
   "execution_count": null,
   "id": "e1561ae4",
   "metadata": {},
   "outputs": [],
   "source": [
    "df_mi.loc[:, ('c1','a')], df_mi.loc[('Rome','2018'), ('c1','a')]"
   ]
  },
  {
   "cell_type": "code",
   "execution_count": null,
   "id": "95042d49",
   "metadata": {},
   "outputs": [],
   "source": [
    "ixs = pd.IndexSlice\n",
    "df_mi.loc[ixs['Rome':'Turin', '2018'], ixs['c1':'c2', 'a']]"
   ]
  },
  {
   "cell_type": "code",
   "execution_count": null,
   "id": "fc9515e4",
   "metadata": {},
   "outputs": [],
   "source": [
    "df_mi.index.names = ['city','year']\n",
    "df_reset = df_mi.reset_index()\n",
    "df_set_back = df_reset.set_index(['city','year'])\n",
    "(df_reset.head(), df_set_back.equals(df_mi))"
   ]
  },
  {
   "cell_type": "code",
   "execution_count": null,
   "id": "79cdcc1d",
   "metadata": {},
   "outputs": [],
   "source": [
    "unstacked = s_mi.unstack()\n",
    "restacked = unstacked.stack()\n",
    "max_by_city = df_mi.max(level='city')\n",
    "max_by_year = df_mi.max(level='year')\n",
    "max_by_col_level0 = df_mi.max(axis=1, level=0)\n",
    "(unstacked, restacked.equals(s_mi), max_by_city, max_by_year, max_by_col_level0)"
   ]
  },
  {
   "cell_type": "markdown",
   "id": "db7c42b6",
   "metadata": {},
   "source": [
    "---\n",
    "\n",
    "*Notebook creato automaticamente il 2025-10-09 09:48:35.*"
   ]
  }
 ],
 "metadata": {
  "kernelspec": {
   "display_name": "Python 3",
   "language": "python",
   "name": "python3"
  },
  "language_info": {
   "codemirror_mode": {
    "name": "ipython",
    "version": 3
   },
   "file_extension": ".py",
   "mimetype": "text/x-python",
   "name": "python",
   "nbconvert_exporter": "python",
   "pygments_lexer": "ipython3",
   "version": "3.12.10"
  }
 },
 "nbformat": 4,
 "nbformat_minor": 5
}
